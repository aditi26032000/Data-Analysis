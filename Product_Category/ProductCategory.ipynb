{
 "cells": [
  {
   "cell_type": "code",
   "execution_count": 119,
   "metadata": {},
   "outputs": [],
   "source": [
    "#import libraries\n",
    "import pandas as pd\n",
    "import numpy as np\n",
    "import seaborn as sns\n",
    "import matplotlib.pyplot as plt\n",
    "%matplotlib inline\n",
    "import re\n",
    "import string\n",
    "import nltk\n",
    "from nltk.corpus import stopwords\n",
    "from sklearn.preprocessing import LabelEncoder\n",
    "from sklearn.feature_extraction.text import TfidfVectorizer\n",
    "from sklearn.model_selection import StratifiedKFold,train_test_split, GridSearchCV\n",
    "from sklearn.metrics import accuracy_score\n",
    "import xgboost as xgb\n"
   ]
  },
  {
   "cell_type": "code",
   "execution_count": 120,
   "metadata": {},
   "outputs": [],
   "source": [
    "data = pd.read_csv(r\"C:\\Users\\aloka\\Downloads\\Train (1).csv\")"
   ]
  },
  {
   "cell_type": "code",
   "execution_count": 121,
   "metadata": {},
   "outputs": [
    {
     "data": {
      "text/html": [
       "<div>\n",
       "<style scoped>\n",
       "    .dataframe tbody tr th:only-of-type {\n",
       "        vertical-align: middle;\n",
       "    }\n",
       "\n",
       "    .dataframe tbody tr th {\n",
       "        vertical-align: top;\n",
       "    }\n",
       "\n",
       "    .dataframe thead th {\n",
       "        text-align: right;\n",
       "    }\n",
       "</style>\n",
       "<table border=\"1\" class=\"dataframe\">\n",
       "  <thead>\n",
       "    <tr style=\"text-align: right;\">\n",
       "      <th></th>\n",
       "      <th>Inv_Id</th>\n",
       "      <th>Vendor_Code</th>\n",
       "      <th>GL_Code</th>\n",
       "      <th>Inv_Amt</th>\n",
       "      <th>Item_Description</th>\n",
       "      <th>Product_Category</th>\n",
       "    </tr>\n",
       "  </thead>\n",
       "  <tbody>\n",
       "    <tr>\n",
       "      <th>0</th>\n",
       "      <td>15001</td>\n",
       "      <td>VENDOR-1676</td>\n",
       "      <td>GL-6100410</td>\n",
       "      <td>83.24</td>\n",
       "      <td>Artworking/Typesetting Production Jun 2009 Cha...</td>\n",
       "      <td>CLASS-1963</td>\n",
       "    </tr>\n",
       "    <tr>\n",
       "      <th>1</th>\n",
       "      <td>15002</td>\n",
       "      <td>VENDOR-1883</td>\n",
       "      <td>GL-2182000</td>\n",
       "      <td>51.18</td>\n",
       "      <td>Auto Leasing Corporate Services Corning Inc /N...</td>\n",
       "      <td>CLASS-1250</td>\n",
       "    </tr>\n",
       "    <tr>\n",
       "      <th>2</th>\n",
       "      <td>15004</td>\n",
       "      <td>VENDOR-1999</td>\n",
       "      <td>GL-6050100</td>\n",
       "      <td>79.02</td>\n",
       "      <td>Store Management Lease/Rent Deltona Corp Real ...</td>\n",
       "      <td>CLASS-1274</td>\n",
       "    </tr>\n",
       "    <tr>\n",
       "      <th>3</th>\n",
       "      <td>15005</td>\n",
       "      <td>VENDOR-1771</td>\n",
       "      <td>GL-6101400</td>\n",
       "      <td>48.50</td>\n",
       "      <td>Store Construction General Requirements Coloni...</td>\n",
       "      <td>CLASS-1522</td>\n",
       "    </tr>\n",
       "    <tr>\n",
       "      <th>4</th>\n",
       "      <td>15006</td>\n",
       "      <td>VENDOR-1331</td>\n",
       "      <td>GL-2182000</td>\n",
       "      <td>63.35</td>\n",
       "      <td>Jul 2015 Aydin Corp Contingent Labor/Temp Labo...</td>\n",
       "      <td>CLASS-1376</td>\n",
       "    </tr>\n",
       "  </tbody>\n",
       "</table>\n",
       "</div>"
      ],
      "text/plain": [
       "   Inv_Id  Vendor_Code     GL_Code  Inv_Amt  \\\n",
       "0   15001  VENDOR-1676  GL-6100410    83.24   \n",
       "1   15002  VENDOR-1883  GL-2182000    51.18   \n",
       "2   15004  VENDOR-1999  GL-6050100    79.02   \n",
       "3   15005  VENDOR-1771  GL-6101400    48.50   \n",
       "4   15006  VENDOR-1331  GL-2182000    63.35   \n",
       "\n",
       "                                    Item_Description Product_Category  \n",
       "0  Artworking/Typesetting Production Jun 2009 Cha...       CLASS-1963  \n",
       "1  Auto Leasing Corporate Services Corning Inc /N...       CLASS-1250  \n",
       "2  Store Management Lease/Rent Deltona Corp Real ...       CLASS-1274  \n",
       "3  Store Construction General Requirements Coloni...       CLASS-1522  \n",
       "4  Jul 2015 Aydin Corp Contingent Labor/Temp Labo...       CLASS-1376  "
      ]
     },
     "execution_count": 121,
     "metadata": {},
     "output_type": "execute_result"
    }
   ],
   "source": [
    "data.head()"
   ]
  },
  {
   "cell_type": "code",
   "execution_count": 122,
   "metadata": {},
   "outputs": [
    {
     "data": {
      "text/plain": [
       "(5566, 6)"
      ]
     },
     "execution_count": 122,
     "metadata": {},
     "output_type": "execute_result"
    }
   ],
   "source": [
    "data.shape"
   ]
  },
  {
   "cell_type": "code",
   "execution_count": 123,
   "metadata": {},
   "outputs": [
    {
     "data": {
      "text/plain": [
       "Index(['Inv_Id', 'Vendor_Code', 'GL_Code', 'Inv_Amt', 'Item_Description',\n",
       "       'Product_Category'],\n",
       "      dtype='object')"
      ]
     },
     "execution_count": 123,
     "metadata": {},
     "output_type": "execute_result"
    }
   ],
   "source": [
    "data.columns"
   ]
  },
  {
   "cell_type": "code",
   "execution_count": 124,
   "metadata": {},
   "outputs": [
    {
     "name": "stdout",
     "output_type": "stream",
     "text": [
      "<class 'pandas.core.frame.DataFrame'>\n",
      "RangeIndex: 5566 entries, 0 to 5565\n",
      "Data columns (total 6 columns):\n",
      "Inv_Id              5566 non-null int64\n",
      "Vendor_Code         5566 non-null object\n",
      "GL_Code             5566 non-null object\n",
      "Inv_Amt             5566 non-null float64\n",
      "Item_Description    5566 non-null object\n",
      "Product_Category    5566 non-null object\n",
      "dtypes: float64(1), int64(1), object(4)\n",
      "memory usage: 261.0+ KB\n"
     ]
    }
   ],
   "source": [
    "data.info()"
   ]
  },
  {
   "cell_type": "code",
   "execution_count": 125,
   "metadata": {},
   "outputs": [
    {
     "data": {
      "text/plain": [
       "36"
      ]
     },
     "execution_count": 125,
     "metadata": {},
     "output_type": "execute_result"
    }
   ],
   "source": [
    "len(data['Product_Category'].unique())"
   ]
  },
  {
   "cell_type": "code",
   "execution_count": 126,
   "metadata": {},
   "outputs": [
    {
     "data": {
      "text/plain": [
       "CLASS-1758    1498\n",
       "CLASS-1274     986\n",
       "CLASS-1522     851\n",
       "CLASS-1250     451\n",
       "CLASS-1376     365\n",
       "CLASS-1963     230\n",
       "CLASS-1249     176\n",
       "CLASS-1828     113\n",
       "CLASS-2141     108\n",
       "CLASS-1721     107\n",
       "CLASS-1567      84\n",
       "CLASS-1919      70\n",
       "CLASS-1850      60\n",
       "CLASS-2112      53\n",
       "CLASS-1477      50\n",
       "CLASS-1870      36\n",
       "CLASS-2241      36\n",
       "CLASS-1309      32\n",
       "CLASS-2003      32\n",
       "CLASS-1429      32\n",
       "CLASS-1964      28\n",
       "CLASS-1322      28\n",
       "CLASS-1294      25\n",
       "CLASS-1770      19\n",
       "CLASS-1983      17\n",
       "CLASS-1652      15\n",
       "CLASS-1867      15\n",
       "CLASS-2038      13\n",
       "CLASS-1805      12\n",
       "CLASS-2152       9\n",
       "CLASS-1248       5\n",
       "CLASS-1688       4\n",
       "CLASS-2146       2\n",
       "CLASS-2015       2\n",
       "CLASS-1957       1\n",
       "CLASS-1838       1\n",
       "Name: Product_Category, dtype: int64"
      ]
     },
     "execution_count": 126,
     "metadata": {},
     "output_type": "execute_result"
    }
   ],
   "source": [
    "\n",
    "data['Product_Category'].value_counts().sort_values(ascending=False)"
   ]
  },
  {
   "cell_type": "code",
   "execution_count": 127,
   "metadata": {},
   "outputs": [],
   "source": [
    "#encode string to numerical\n",
    "from sklearn.preprocessing import LabelEncoder\n",
    "en = LabelEncoder()\n",
    "for col in ['GL_Code', 'Vendor_Code','Product_Category']:\n",
    "    \n",
    "    data[col] = en.fit_transform(data[col])\n",
    "    \n",
    "   \n"
   ]
  },
  {
   "cell_type": "code",
   "execution_count": 128,
   "metadata": {},
   "outputs": [],
   "source": [
    "#seperate Product_Category\n",
    "y = data['Product_Category']\n",
    "data.drop(['Product_Category'],axis=1,inplace=True)\n"
   ]
  },
  {
   "cell_type": "code",
   "execution_count": 117,
   "metadata": {},
   "outputs": [],
   "source": [
    "# Text Cleaning\n",
    "remove_words = set(stopwords.words('english'))\n",
    "\n",
    "def token(text):\n",
    "     \n",
    "    sent =re.sub(\"[^A-Za-z]+\",\" \",text)\n",
    "    sents = sent.split()\n",
    "    \n",
    "    clean_tokens = []\n",
    "    for x in sents:\n",
    "        if x not in string.punctuation and x not in stop_words:\n",
    "            clean_tokens.append(x.lower().strip())\n",
    "    \n",
    "    return clean_tokens\n",
    "        "
   ]
  },
  {
   "cell_type": "code",
   "execution_count": 129,
   "metadata": {},
   "outputs": [],
   "source": [
    "#Apply TfidfVectorizer\n",
    "\n",
    "model_vect = TfidfVectorizer(tokenizer=token, ngram_range=(1,2), use_idf = False, max_features = None)\n",
    "model_vect.fit(data['Item_Description'])\n",
    "\n",
    "X = model_vect.transform(data['Item_Description'])"
   ]
  },
  {
   "cell_type": "code",
   "execution_count": 130,
   "metadata": {},
   "outputs": [],
   "source": [
    "layer = {}\n",
    "# use softmax multi-class classification\n",
    "layer['objective']= 'multi:softprob'\n",
    "layer['eta'] = 0.1\n",
    "layer['max_depth'] = 6\n",
    "layer['silent']=1\n",
    "layer['nthread'] = 4\n",
    "layer['num_class'] = len(en.classes_)\n",
    "layer['eval_metric'] = ['mlogloss']\n",
    "layer['seed'] = 1\n"
   ]
  },
  {
   "cell_type": "code",
   "execution_count": 132,
   "metadata": {},
   "outputs": [
    {
     "name": "stdout",
     "output_type": "stream",
     "text": [
      "[0]\ttrain-mlogloss:2.02698\teval-mlogloss:2.02699\n",
      "[50]\ttrain-mlogloss:0.014214\teval-mlogloss:0.020119\n",
      "[99]\ttrain-mlogloss:0.003764\teval-mlogloss:0.010158\n"
     ]
    }
   ],
   "source": [
    "x_train, x_test, y_train, y_test = train_test_split(X, y, test_size = 0.3, random_state=1)\n",
    "\n",
    "m_train = xgb.DMatrix(X_train, label=y_train)\n",
    "m_test = xgb.DMatrix(X_valid, label=y_valid)\n",
    "\n",
    "evaluation = [(m_train, 'train'), (m_test, 'eval')]\n",
    "\n",
    "model = xgb.train(layer, dtrain, 100, evaluation, verbose_eval=50)"
   ]
  },
  {
   "cell_type": "code",
   "execution_count": 89,
   "metadata": {},
   "outputs": [
    {
     "name": "stdout",
     "output_type": "stream",
     "text": [
      "Accuracy :  0.9988023952095808\n"
     ]
    }
   ],
   "source": [
    "y_pred_valid = model.predict(dvalid)\n",
    "\n",
    "print(\"Accuracy : \",accuracy_score(y_valid, np.argmax(y_pred_valid, axis=1)))"
   ]
  },
  {
   "cell_type": "code",
   "execution_count": null,
   "metadata": {},
   "outputs": [],
   "source": []
  }
 ],
 "metadata": {
  "kernelspec": {
   "display_name": "Python 3",
   "language": "python",
   "name": "python3"
  },
  "language_info": {
   "codemirror_mode": {
    "name": "ipython",
    "version": 3
   },
   "file_extension": ".py",
   "mimetype": "text/x-python",
   "name": "python",
   "nbconvert_exporter": "python",
   "pygments_lexer": "ipython3",
   "version": "3.7.3"
  }
 },
 "nbformat": 4,
 "nbformat_minor": 2
}
